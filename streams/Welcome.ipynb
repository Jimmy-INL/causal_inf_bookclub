{
 "cells": [
  {
   "cell_type": "markdown",
   "id": "0012b6a6",
   "metadata": {
    "slideshow": {
     "slide_type": "slide"
    }
   },
   "source": [
    "# Welcome to Causal Inference: The Mixtape Book Club"
   ]
  },
  {
   "cell_type": "markdown",
   "id": "e881d571",
   "metadata": {
    "cell_style": "split",
    "slideshow": {
     "slide_type": "slide"
    }
   },
   "source": [
    "# Why this book\n",
    "* Causal Inference is a very relevant topic across academia and business\n",
    "* Has an approachable writing style\n",
    "* Includes many examples\n",
    "* Includes many code examples\n",
    "* Is Open Access\n",
    "  * Though if you can buy a copy"
   ]
  },
  {
   "cell_type": "markdown",
   "id": "b18ac29e",
   "metadata": {
    "cell_style": "split",
    "slideshow": {
     "slide_type": "-"
    }
   },
   "source": [
    "<div>\n",
    "<img src=\"https://mixtape.scunning.com/images/cover.jpg\" style=\"height:700px;\"/>\n",
    "</div>"
   ]
  },
  {
   "cell_type": "markdown",
   "id": "0893e8f2",
   "metadata": {
    "slideshow": {
     "slide_type": "slide"
    }
   },
   "source": [
    "# Why this book club\n"
   ]
  },
  {
   "cell_type": "markdown",
   "id": "0afa7373",
   "metadata": {},
   "source": [
    "## $$\\text{Great Book} + \\text{Great People} \\\\ = (\\text{Fun} * \\text{Learning})^{\\infty} \\\\ = \\text{We grow better, faster, and more effectively together}$$"
   ]
  },
  {
   "attachments": {},
   "cell_type": "markdown",
   "id": "c06bcfe4",
   "metadata": {
    "slideshow": {
     "slide_type": "slide"
    }
   },
   "source": [
    "# prior(n_great_people = 5)\n",
    "I underestimated how many of you would like this idea\n",
    "<div align=\"center\">\n",
    "<img src=\"img/tweet.png\" style=\"height:500px;\"/>\n",
    "</div>"
   ]
  },
  {
   "cell_type": "markdown",
   "id": "e24f38f6",
   "metadata": {
    "slideshow": {
     "slide_type": "fragment"
    }
   },
   "source": [
    "by a lot"
   ]
  },
  {
   "cell_type": "markdown",
   "id": "18b2e9c3",
   "metadata": {
    "slideshow": {
     "slide_type": "fragment"
    }
   },
   "source": [
    "Over a 100 people registered from all over the world"
   ]
  },
  {
   "cell_type": "markdown",
   "id": "2ffebe2b",
   "metadata": {
    "slideshow": {
     "slide_type": "slide"
    }
   },
   "source": [
    "# Goals\n",
    "\n",
    "* Fit everyones timezone and level of commitment  \n",
    "* still ensure we get done in a reasonable time  \n",
    "* include some more synchronous activities  \n",
    "\n",
    "# Platforms\n",
    "* Discourse\n",
    "  * for async discussion\n",
    "* Recorded YouTube Live Streams \n",
    "  * for synchronous events with ability to watch later\n",
    "\n"
   ]
  },
  {
   "cell_type": "markdown",
   "id": "b6121a2f",
   "metadata": {
    "slideshow": {
     "slide_type": "slide"
    }
   },
   "source": [
    "# Async Cadence\n",
    "* Each cycle will be about 2-4 weeks\n",
    "  * Schedule will be posted as we go\n",
    "* Well work through a chapter \n",
    "  * Discuss on Discourse throughout the cycle\n",
    "* I'll host a video very likely on Sunday morning PST\n",
    "  * Chapter overview\n",
    "  * My thoughts\n",
    "  * Takeaways\n",
    "  * Preview for next chapter \n",
    "  \n",
    "We'll may evolve the experience as we go"
   ]
  },
  {
   "cell_type": "markdown",
   "id": "10617a35",
   "metadata": {
    "slideshow": {
     "slide_type": "slide"
    }
   },
   "source": [
    "# Disclaimer: I'm not an expert and I have my own opinions\n",
    "* I've never read this book and do not have decades of experience with causal inference\n",
    "* I will be sharing my own thoughts\n",
    "  * Some of those might be disagreements!\n",
    "* I do want to learn more\n",
    "  * like everyone here  \n",
    "\n",
    "<br>\n",
    "<br>\n",
    "\n",
    "If you're looking for expert guidance from the original author you should opt for Scott's workshops\n",
    "\n",
    "https://www.mixtapesessions.io/session"
   ]
  },
  {
   "cell_type": "markdown",
   "id": "6bec8c4d",
   "metadata": {
    "slideshow": {
     "slide_type": "slide"
    }
   },
   "source": [
    "# What's next\n",
    "1. Check your email for an invite to Discourse\n",
    "   * Post an introduction\n",
    "2. Read Introduction chapter\n",
    "3. Mark your calendar for the first livestream \n",
    "  * June 5th 8am PST"
   ]
  }
 ],
 "metadata": {
  "celltoolbar": "Slideshow",
  "kernelspec": {
   "display_name": "Python 3 (ipykernel)",
   "language": "python",
   "name": "python3"
  },
  "language_info": {
   "codemirror_mode": {
    "name": "ipython",
    "version": 3
   },
   "file_extension": ".py",
   "mimetype": "text/x-python",
   "name": "python",
   "nbconvert_exporter": "python",
   "pygments_lexer": "ipython3",
   "version": "3.10.4"
  },
  "rise": {
   "auto_select": "none",
   "enable_chalkboard": true,
   "overlay": "<class='slide-background-content' img src='logo-stroke.png'>",
   "scroll": true
  }
 },
 "nbformat": 4,
 "nbformat_minor": 5
}
