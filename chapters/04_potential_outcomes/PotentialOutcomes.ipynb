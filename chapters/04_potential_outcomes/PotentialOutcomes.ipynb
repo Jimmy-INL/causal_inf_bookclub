{
 "cells": [
  {
   "cell_type": "markdown",
   "id": "8fb738c8-eac2-4697-bcf9-d925a8c3bef4",
   "metadata": {},
   "source": [
    "# Potential Outcomes Chapter"
   ]
  },
  {
   "cell_type": "markdown",
   "id": "5b71dbf2-d9fa-4b81-bbc5-5dcef41f0b13",
   "metadata": {
    "tags": []
   },
   "source": [
    "## Glossary\n",
    "$Y^1$ - Potential Outcome where treatment occurred  \n",
    "$Y^0$ - Potential outcome where treatment did not occur  \n",
    "$Y_i$ - Actual outcome, which is distinct from potential outcome   \n",
    "$D_i$ - Equal 1 if treament occured, equals zero if it did not  \n",
    "$\\delta_i$ = Casual effect, equal to $Y_i^1 - Y_i^0$  \n",
    "$ATE$ = Average treatment effect $E[\\delta_i]$  \n",
    " \n",
    "\n"
   ]
  },
  {
   "cell_type": "markdown",
   "id": "73e99a81-1dce-4fac-ac52-d640b7ab66e7",
   "metadata": {
    "jupyter": {
     "source_hidden": true
    },
    "tags": []
   },
   "source": [
    "## Quotes\n",
    "* One could argue the entire enterprise of of causal inference is about developing a reasonable strategy for negating the role that the selection bias is playing in estimating causal effects"
   ]
  },
  {
   "cell_type": "markdown",
   "id": "1a7295a2-e1f3-4ef3-9e38-966767b6e08a",
   "metadata": {},
   "source": [
    "# Recreating 4.1.3 "
   ]
  },
  {
   "cell_type": "code",
   "execution_count": 14,
   "id": "0d803f89-db08-4b76-96fe-ed89f92b353e",
   "metadata": {},
   "outputs": [],
   "source": [
    "import pandas as pd\n",
    "from io import StringIO"
   ]
  },
  {
   "cell_type": "code",
   "execution_count": 15,
   "id": "f67ab5f8-256d-41b4-9084-8f82f86f0e1c",
   "metadata": {},
   "outputs": [],
   "source": [
    "tables = \"\"\"\n",
    "Patients\ty1\ty0\tdelta\n",
    "1 \t7 \t1 \t6\n",
    "2 \t5 \t6 \t-1\n",
    "3 \t5 \t1 \t4\n",
    "4 \t7 \t8 \t-1\n",
    "5 \t4 \t2 \t2\n",
    "6 \t10 \t1 \t9\n",
    "7 \t1 \t10 \t -9\n",
    "8 \t5 \t6 \t-1\n",
    "9 \t3 \t7 \t-4\n",
    "10 \t9 \t8 \t1\n",
    "\"\"\""
   ]
  },
  {
   "cell_type": "code",
   "execution_count": 16,
   "id": "028aa0fa-3d3a-43f6-958e-80a33887f5a8",
   "metadata": {},
   "outputs": [
    {
     "data": {
      "text/html": [
       "<div>\n",
       "<style scoped>\n",
       "    .dataframe tbody tr th:only-of-type {\n",
       "        vertical-align: middle;\n",
       "    }\n",
       "\n",
       "    .dataframe tbody tr th {\n",
       "        vertical-align: top;\n",
       "    }\n",
       "\n",
       "    .dataframe thead th {\n",
       "        text-align: right;\n",
       "    }\n",
       "</style>\n",
       "<table border=\"1\" class=\"dataframe\">\n",
       "  <thead>\n",
       "    <tr style=\"text-align: right;\">\n",
       "      <th></th>\n",
       "      <th>Patients</th>\n",
       "      <th>y1</th>\n",
       "      <th>y0</th>\n",
       "      <th>delta</th>\n",
       "    </tr>\n",
       "  </thead>\n",
       "  <tbody>\n",
       "    <tr>\n",
       "      <th>0</th>\n",
       "      <td>1</td>\n",
       "      <td>7</td>\n",
       "      <td>1</td>\n",
       "      <td>6</td>\n",
       "    </tr>\n",
       "    <tr>\n",
       "      <th>1</th>\n",
       "      <td>2</td>\n",
       "      <td>5</td>\n",
       "      <td>6</td>\n",
       "      <td>-1</td>\n",
       "    </tr>\n",
       "    <tr>\n",
       "      <th>2</th>\n",
       "      <td>3</td>\n",
       "      <td>5</td>\n",
       "      <td>1</td>\n",
       "      <td>4</td>\n",
       "    </tr>\n",
       "    <tr>\n",
       "      <th>3</th>\n",
       "      <td>4</td>\n",
       "      <td>7</td>\n",
       "      <td>8</td>\n",
       "      <td>-1</td>\n",
       "    </tr>\n",
       "    <tr>\n",
       "      <th>4</th>\n",
       "      <td>5</td>\n",
       "      <td>4</td>\n",
       "      <td>2</td>\n",
       "      <td>2</td>\n",
       "    </tr>\n",
       "    <tr>\n",
       "      <th>5</th>\n",
       "      <td>6</td>\n",
       "      <td>10</td>\n",
       "      <td>1</td>\n",
       "      <td>9</td>\n",
       "    </tr>\n",
       "    <tr>\n",
       "      <th>6</th>\n",
       "      <td>7</td>\n",
       "      <td>1</td>\n",
       "      <td>10</td>\n",
       "      <td>-9</td>\n",
       "    </tr>\n",
       "    <tr>\n",
       "      <th>7</th>\n",
       "      <td>8</td>\n",
       "      <td>5</td>\n",
       "      <td>6</td>\n",
       "      <td>-1</td>\n",
       "    </tr>\n",
       "    <tr>\n",
       "      <th>8</th>\n",
       "      <td>9</td>\n",
       "      <td>3</td>\n",
       "      <td>7</td>\n",
       "      <td>-4</td>\n",
       "    </tr>\n",
       "    <tr>\n",
       "      <th>9</th>\n",
       "      <td>10</td>\n",
       "      <td>9</td>\n",
       "      <td>8</td>\n",
       "      <td>1</td>\n",
       "    </tr>\n",
       "  </tbody>\n",
       "</table>\n",
       "</div>"
      ],
      "text/plain": [
       "   Patients  y1  y0  delta\n",
       "0         1   7   1      6\n",
       "1         2   5   6     -1\n",
       "2         3   5   1      4\n",
       "3         4   7   8     -1\n",
       "4         5   4   2      2\n",
       "5         6  10   1      9\n",
       "6         7   1  10     -9\n",
       "7         8   5   6     -1\n",
       "8         9   3   7     -4\n",
       "9        10   9   8      1"
      ]
     },
     "execution_count": 16,
     "metadata": {},
     "output_type": "execute_result"
    }
   ],
   "source": [
    "table = pd.read_csv(StringIO(tables), delimiter=\"\\t\")\n",
    "table"
   ]
  },
  {
   "cell_type": "code",
   "execution_count": 17,
   "id": "171bb33a-6600-48f3-9bc0-3adf628eae98",
   "metadata": {},
   "outputs": [
    {
     "data": {
      "text/plain": [
       "Index(['Patients', 'y1', 'y0', 'delta'], dtype='object')"
      ]
     },
     "execution_count": 17,
     "metadata": {},
     "output_type": "execute_result"
    }
   ],
   "source": [
    "table.columns"
   ]
  },
  {
   "cell_type": "markdown",
   "id": "d6e17bd4",
   "metadata": {},
   "source": [
    "## "
   ]
  },
  {
   "cell_type": "code",
   "execution_count": 18,
   "id": "e4d8480c-915d-4c6c-84f2-0baf58dd4661",
   "metadata": {},
   "outputs": [
    {
     "data": {
      "text/plain": [
       "5.6"
      ]
     },
     "execution_count": 18,
     "metadata": {},
     "output_type": "execute_result"
    }
   ],
   "source": [
    "expectation_y1 = table[\"y1\"].mean()\n",
    "expectation_y1"
   ]
  },
  {
   "cell_type": "code",
   "execution_count": 19,
   "id": "8db19a7d-7384-4458-86d4-503bdce81031",
   "metadata": {},
   "outputs": [
    {
     "data": {
      "text/plain": [
       "5.0"
      ]
     },
     "execution_count": 19,
     "metadata": {},
     "output_type": "execute_result"
    }
   ],
   "source": [
    "expectation_y0 = table[\"y0\"].mean()\n",
    "expectation_y0"
   ]
  },
  {
   "cell_type": "code",
   "execution_count": 20,
   "id": "420597d7-37d6-425c-9efd-e33ed08160fa",
   "metadata": {},
   "outputs": [
    {
     "data": {
      "text/plain": [
       "0.5999999999999996"
      ]
     },
     "execution_count": 20,
     "metadata": {},
     "output_type": "execute_result"
    }
   ],
   "source": [
    "ate = expectation_y1 - expectation_y0\n",
    "ate"
   ]
  },
  {
   "cell_type": "markdown",
   "id": "50849193-b472-4dc1-b0e9-0ec598321d36",
   "metadata": {},
   "source": [
    "## Perfect selection of ideal outcomes\n",
    "The assumption here is that the doctor here is able to pick the best outcome every time\n",
    "\n",
    "Surgery is D=1, versus Chemo is D=0"
   ]
  },
  {
   "cell_type": "code",
   "execution_count": 21,
   "id": "3d618bb8-3e99-4ef2-a2fb-abbfc3e4a0a5",
   "metadata": {},
   "outputs": [],
   "source": [
    "post_treatment_table_str = \"\"\"\n",
    "Patients\tY\tD\n",
    "1 \t7 \t1\n",
    "2 \t6 \t0\n",
    "3 \t5 \t1\n",
    "4 \t8 \t0\n",
    "5 \t4 \t1\n",
    "6 \t10 \t1\n",
    "7 \t10 \t0\n",
    "8 \t6 \t0\n",
    "9 \t7 \t0\n",
    "10 \t9 \t1\n",
    "\"\"\""
   ]
  },
  {
   "cell_type": "code",
   "execution_count": 22,
   "id": "1cb1718f-706e-4eb5-8d41-cfc982160bff",
   "metadata": {},
   "outputs": [
    {
     "data": {
      "text/html": [
       "<div>\n",
       "<style scoped>\n",
       "    .dataframe tbody tr th:only-of-type {\n",
       "        vertical-align: middle;\n",
       "    }\n",
       "\n",
       "    .dataframe tbody tr th {\n",
       "        vertical-align: top;\n",
       "    }\n",
       "\n",
       "    .dataframe thead th {\n",
       "        text-align: right;\n",
       "    }\n",
       "</style>\n",
       "<table border=\"1\" class=\"dataframe\">\n",
       "  <thead>\n",
       "    <tr style=\"text-align: right;\">\n",
       "      <th></th>\n",
       "      <th>Patients</th>\n",
       "      <th>Y</th>\n",
       "      <th>D</th>\n",
       "    </tr>\n",
       "  </thead>\n",
       "  <tbody>\n",
       "    <tr>\n",
       "      <th>0</th>\n",
       "      <td>1</td>\n",
       "      <td>7</td>\n",
       "      <td>1</td>\n",
       "    </tr>\n",
       "    <tr>\n",
       "      <th>1</th>\n",
       "      <td>2</td>\n",
       "      <td>6</td>\n",
       "      <td>0</td>\n",
       "    </tr>\n",
       "    <tr>\n",
       "      <th>2</th>\n",
       "      <td>3</td>\n",
       "      <td>5</td>\n",
       "      <td>1</td>\n",
       "    </tr>\n",
       "    <tr>\n",
       "      <th>3</th>\n",
       "      <td>4</td>\n",
       "      <td>8</td>\n",
       "      <td>0</td>\n",
       "    </tr>\n",
       "    <tr>\n",
       "      <th>4</th>\n",
       "      <td>5</td>\n",
       "      <td>4</td>\n",
       "      <td>1</td>\n",
       "    </tr>\n",
       "    <tr>\n",
       "      <th>5</th>\n",
       "      <td>6</td>\n",
       "      <td>10</td>\n",
       "      <td>1</td>\n",
       "    </tr>\n",
       "    <tr>\n",
       "      <th>6</th>\n",
       "      <td>7</td>\n",
       "      <td>10</td>\n",
       "      <td>0</td>\n",
       "    </tr>\n",
       "    <tr>\n",
       "      <th>7</th>\n",
       "      <td>8</td>\n",
       "      <td>6</td>\n",
       "      <td>0</td>\n",
       "    </tr>\n",
       "    <tr>\n",
       "      <th>8</th>\n",
       "      <td>9</td>\n",
       "      <td>7</td>\n",
       "      <td>0</td>\n",
       "    </tr>\n",
       "    <tr>\n",
       "      <th>9</th>\n",
       "      <td>10</td>\n",
       "      <td>9</td>\n",
       "      <td>1</td>\n",
       "    </tr>\n",
       "  </tbody>\n",
       "</table>\n",
       "</div>"
      ],
      "text/plain": [
       "   Patients   Y  D\n",
       "0         1   7  1\n",
       "1         2   6  0\n",
       "2         3   5  1\n",
       "3         4   8  0\n",
       "4         5   4  1\n",
       "5         6  10  1\n",
       "6         7  10  0\n",
       "7         8   6  0\n",
       "8         9   7  0\n",
       "9        10   9  1"
      ]
     },
     "execution_count": 22,
     "metadata": {},
     "output_type": "execute_result"
    }
   ],
   "source": [
    "post_treatment_table = pd.read_csv(StringIO(post_treatment_table_str), delimiter=\"\\t\")\n",
    "post_treatment_table"
   ]
  },
  {
   "cell_type": "markdown",
   "id": "ba2d5e28-3c09-48cf-a8c7-d53812bf2992",
   "metadata": {},
   "source": [
    "Average treatment effect for treated group. Note in this case all patients are treated in the medical sense, but in the casual inference sense the surgery folks are the ones receiving the new treatment"
   ]
  },
  {
   "cell_type": "markdown",
   "id": "5ddc78ed-e8c8-4d33-915a-2a02ef3c0c09",
   "metadata": {},
   "source": [
    "### Average treatment effect for treated group\n",
    "We compare the outcome that they would get with treatment, with the outcome they would get without treatment"
   ]
  },
  {
   "cell_type": "code",
   "execution_count": 23,
   "id": "ebc28d4a-ba7f-4ad9-9167-83af3a101173",
   "metadata": {},
   "outputs": [
    {
     "data": {
      "text/plain": [
       "4.4"
      ]
     },
     "execution_count": 23,
     "metadata": {},
     "output_type": "execute_result"
    }
   ],
   "source": [
    "treated_outcomes = table[post_treatment_table[\"D\"] == 1].mean()\n",
    "att = treated_outcomes[\"y1\"] - treated_outcomes[\"y0\"]\n",
    "att"
   ]
  },
  {
   "cell_type": "markdown",
   "id": "46fe62a4-37db-4019-b633-a4f3560ca31d",
   "metadata": {},
   "source": [
    "### Average treatment effect for untreated group"
   ]
  },
  {
   "cell_type": "code",
   "execution_count": 24,
   "id": "488b144e-447e-4d95-b7e6-ea311b79dec2",
   "metadata": {},
   "outputs": [
    {
     "data": {
      "text/plain": [
       "-3.2"
      ]
     },
     "execution_count": 24,
     "metadata": {},
     "output_type": "execute_result"
    }
   ],
   "source": [
    "untreated_outcomes = table[post_treatment_table[\"D\"] == 0].mean()\n",
    "atu = untreated_outcomes[\"y1\"] - untreated_outcomes[\"y0\"]\n",
    "atu"
   ]
  },
  {
   "cell_type": "markdown",
   "id": "ee0fc109",
   "metadata": {},
   "source": [
    "###  Simple difference in means\n",
    "\n",
    "Or simple difference in outcomes, I'm not sure why he switches it halfway through"
   ]
  },
  {
   "cell_type": "code",
   "execution_count": 25,
   "id": "7b8045dc-8122-4324-9fae-0262786a3586",
   "metadata": {},
   "outputs": [
    {
     "data": {
      "text/plain": [
       "-0.40000000000000036"
      ]
     },
     "execution_count": 25,
     "metadata": {},
     "output_type": "execute_result"
    }
   ],
   "source": [
    "sdo = treated_outcomes[\"y1\"].mean() - untreated_outcomes[\"y0\"].mean()\n",
    "sdo"
   ]
  },
  {
   "cell_type": "markdown",
   "id": "a211bf0e",
   "metadata": {},
   "source": [
    "### Selection Bias"
   ]
  },
  {
   "cell_type": "code",
   "execution_count": 35,
   "id": "756fdf78",
   "metadata": {},
   "outputs": [
    {
     "data": {
      "text/plain": [
       "-4.800000000000001"
      ]
     },
     "execution_count": 35,
     "metadata": {},
     "output_type": "execute_result"
    }
   ],
   "source": [
    "selection_bias = table[post_treatment_table[\"D\"] == 1][\"y0\"].mean() - \\\n",
    "                  table[post_treatment_table[\"D\"] == 0][\"y0\"].mean()\n",
    "\n",
    "selection_bias"
   ]
  },
  {
   "cell_type": "markdown",
   "id": "c98f8061",
   "metadata": {},
   "source": [
    "### Heterogeneous treatment effect bias "
   ]
  },
  {
   "cell_type": "code",
   "execution_count": 30,
   "id": "3e796715",
   "metadata": {},
   "outputs": [
    {
     "data": {
      "text/plain": [
       "3.8000000000000003"
      ]
     },
     "execution_count": 30,
     "metadata": {},
     "output_type": "execute_result"
    }
   ],
   "source": [
    "hteb = (1-.5)*(att - atu)\n",
    "hteb"
   ]
  },
  {
   "cell_type": "markdown",
   "id": "14bfc431",
   "metadata": {},
   "source": [
    "#### Finalizing the algebra"
   ]
  },
  {
   "cell_type": "code",
   "execution_count": 36,
   "id": "f369d57b",
   "metadata": {},
   "outputs": [
    {
     "data": {
      "text/plain": [
       "(-0.40000000000000036, -0.4000000000000008)"
      ]
     },
     "execution_count": 36,
     "metadata": {},
     "output_type": "execute_result"
    }
   ],
   "source": [
    "sdo, ate + selection_bias + hteb"
   ]
  },
  {
   "cell_type": "markdown",
   "id": "3bd6fb04-64f4-4b46-ba23-c3b83a283129",
   "metadata": {},
   "source": [
    "## Rough  Notes\n",
    "So in this perfect universe we know that\n",
    "* The people given surgery live 4.4 years longer\n",
    "* The people given chemo live 3.2 years longer\n",
    "  * Negative is good\n",
    "  * Negative because because we are calculating the post surgery lifespan, but in our case its good because they got chemo meaning they lived 3.2 years longer\n",
    "\n",
    "However if we directly compare the two groups it seems that chemo group gets more lives after surgery which while true is misleading\n",
    "* \"It’s biased because the individuals units were optimally sorting into their best treatment option, creating fundamental differences between treatment and control group that are a direct function of the potential outcomes themselves\""
   ]
  },
  {
   "cell_type": "markdown",
   "id": "982eeecc-d7ce-4721-a04b-2b1a0ca2db6e",
   "metadata": {},
   "source": [
    "### Difference in outcomes is not always the same as ATE"
   ]
  },
  {
   "cell_type": "markdown",
   "id": "2b32897c-9c91-4140-9a71-e4d883c02994",
   "metadata": {},
   "source": [
    "From the difference in outcomes we need to decuple three things\n",
    "* Average treatment effect (which is what we want)\n",
    "* Selection Bias\n",
    "* Heterogenous treatment effect bias\n",
    "  * Accounts for the difference in the size of the groups\n",
    "  * If we end up with a group where everybody is treated then the ATT"
   ]
  },
  {
   "cell_type": "markdown",
   "id": "5a2649b4-d2ba-4aaf-9b2f-6acd9cb41a92",
   "metadata": {},
   "source": [
    "### Morgan and Winship Causal Inference Reference\n",
    "They use different terms that make more sense to me"
   ]
  },
  {
   "cell_type": "markdown",
   "id": "3435de44-1a09-487e-ada8-d132f9d6dd75",
   "metadata": {},
   "source": [
    "Page 59 of counterfactuals and causal inference calls second terms\n",
    "* **Baseline bias**, instead of selection bias\n",
    "* **Differential treatment effect bias**, instead of heterogeneous treatment effect bias\n",
    "\n",
    "The example used si , we want to understand the effect of education on an individuals mental ability. college is the treatment\n",
    "* ATE is the actual effect\n",
    "* Individuals that attend college may already be smarter (baseline bias)\n",
    "* Those who attend college may apt to get more mental ability from college, than those who didn't attend college even if they did"
   ]
  }
 ],
 "metadata": {
  "kernelspec": {
   "display_name": "Python 3 (ipykernel)",
   "language": "python",
   "name": "python3"
  },
  "language_info": {
   "codemirror_mode": {
    "name": "ipython",
    "version": 3
   },
   "file_extension": ".py",
   "mimetype": "text/x-python",
   "name": "python",
   "nbconvert_exporter": "python",
   "pygments_lexer": "ipython3",
   "version": "3.10.4"
  }
 },
 "nbformat": 4,
 "nbformat_minor": 5
}
