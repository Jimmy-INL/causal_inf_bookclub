{
 "cells": [
  {
   "cell_type": "markdown",
   "id": "0012b6a6",
   "metadata": {
    "slideshow": {
     "slide_type": "slide"
    }
   },
   "source": [
    "# Jupyter Slides Template\n",
    "\n",
    "Press `Space` to move to next slide."
   ]
  },
  {
   "cell_type": "markdown",
   "id": "0893e8f2",
   "metadata": {
    "slideshow": {
     "slide_type": "slide"
    }
   },
   "source": [
    "Press `Shift+Space` to move to previous slide."
   ]
  },
  {
   "cell_type": "markdown",
   "id": "b18ac29e",
   "metadata": {
    "slideshow": {
     "slide_type": "slide"
    }
   },
   "source": [
    "# Test Slides\n",
    "* Bullet point 1\n",
    "* Bullet point 2"
   ]
  },
  {
   "cell_type": "markdown",
   "id": "c06bcfe4",
   "metadata": {
    "slideshow": {
     "slide_type": "slide"
    }
   },
   "source": [
    "This is just for reference!\n",
    "\n",
    "# Heading 1\n",
    "\n",
    "\n",
    "## Heading 2\n",
    "\n",
    "\n",
    "### Heading 3\n",
    "\n",
    "\n",
    "#### Heading 4\n",
    "\n",
    "\n",
    "**bold**\n",
    "\n",
    "\n",
    "_italic_"
   ]
  },
  {
   "cell_type": "markdown",
   "id": "2ffebe2b",
   "metadata": {
    "slideshow": {
     "slide_type": "slide"
    }
   },
   "source": [
    "# Okay, now we start (H1)...\n",
    "Yay, I'm a subtitle (H3)!!!"
   ]
  },
  {
   "cell_type": "markdown",
   "id": "2113af7a",
   "metadata": {
    "slideshow": {
     "slide_type": "slide"
    }
   },
   "source": [
    "## Use H2 as slide titles"
   ]
  },
  {
   "cell_type": "code",
   "execution_count": 17,
   "id": "7799adf4",
   "metadata": {
    "slideshow": {
     "slide_type": "-"
    }
   },
   "outputs": [],
   "source": [
    "## Use H2 as slide titles"
   ]
  },
  {
   "cell_type": "markdown",
   "id": "8d16c802",
   "metadata": {
    "slideshow": {
     "slide_type": "-"
    }
   },
   "source": [
    "Save H1 for **slide section** titles (where there's nothing else except for the title + subtitle)"
   ]
  },
  {
   "cell_type": "markdown",
   "id": "a14fe247",
   "metadata": {
    "slideshow": {
     "slide_type": "slide"
    }
   },
   "source": [
    "## Some cool effects with Jupyter Slides\n",
    "\n",
    "You can set the `Slide Type` as the following:\n",
    "* `Slide` - cell is the start of a new slide\n",
    "* `Sub-Slide` - cell is start of a new sub-slide (if you want to follow the same train of thought)\n",
    "* `Fragment` - cell continues off the current slide in the next click (if you have long code blocks, break them up using fragments)\n",
    "* `-` - cell will continue on same slide (good for switching between markdown and cell in the same slide)"
   ]
  },
  {
   "cell_type": "markdown",
   "id": "5c57f9eb",
   "metadata": {
    "slideshow": {
     "slide_type": "subslide"
    }
   },
   "source": [
    "I'm an example of a Sub-Slide!"
   ]
  },
  {
   "cell_type": "code",
   "execution_count": 18,
   "id": "abe4370e",
   "metadata": {
    "slideshow": {
     "slide_type": "fragment"
    }
   },
   "outputs": [
    {
     "name": "stdout",
     "output_type": "stream",
     "text": [
      "peek-a-boo. I'm a fragment.\n"
     ]
    }
   ],
   "source": [
    "print(\"peek-a-boo. I'm a fragment.\")"
   ]
  },
  {
   "cell_type": "markdown",
   "id": "940e24fe",
   "metadata": {
    "slideshow": {
     "slide_type": "slide"
    }
   },
   "source": [
    "This template was made with Jupyter Notebook and RISE extension. You can check out RISE documentation at https://rise.readthedocs.io/en/stable/index.html\n",
    "\n",
    "[Or just click here](https://rise.readthedocs.io/en/stable/index.html)"
   ]
  }
 ],
 "metadata": {
  "celltoolbar": "Slideshow",
  "kernelspec": {
   "display_name": "Python 3 (ipykernel)",
   "language": "python",
   "name": "python3"
  },
  "language_info": {
   "codemirror_mode": {
    "name": "ipython",
    "version": 3
   },
   "file_extension": ".py",
   "mimetype": "text/x-python",
   "name": "python",
   "nbconvert_exporter": "python",
   "pygments_lexer": "ipython3",
   "version": "3.10.4"
  },
  "rise": {
   "auto_select": "none",
   "enable_chalkboard": true,
   "scroll": true
  }
 },
 "nbformat": 4,
 "nbformat_minor": 5
}
