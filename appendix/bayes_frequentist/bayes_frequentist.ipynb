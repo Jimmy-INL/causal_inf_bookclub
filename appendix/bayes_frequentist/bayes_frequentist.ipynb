{
 "cells": [
  {
   "cell_type": "code",
   "execution_count": 17,
   "id": "ad015826",
   "metadata": {
    "slideshow": {
     "slide_type": "skip"
    }
   },
   "outputs": [],
   "source": [
    "import matplotlib.pyplot as plt\n",
    "from scipy import stats\n",
    "import numpy as np\n",
    "from numpy.random import default_rng\n",
    "import pymc as pm\n",
    "import arviz as az"
   ]
  },
  {
   "cell_type": "markdown",
   "id": "0012b6a6",
   "metadata": {
    "slideshow": {
     "slide_type": "slide"
    }
   },
   "source": [
    "# Should you be a Frequentist or a Bayesian"
   ]
  },
  {
   "cell_type": "markdown",
   "id": "74da12b7",
   "metadata": {},
   "source": [
    "<div>\n",
    "  <center> \n",
    "    <img src=\"img/FisherBayes.png\" style=\"height:40%;\"/>\n",
    "  </center>\n",
    "</div>"
   ]
  },
  {
   "cell_type": "markdown",
   "id": "709e65eb",
   "metadata": {
    "slideshow": {
     "slide_type": "fragment"
    }
   },
   "source": [
    "## A unedited, non exhaustive, and opinionated take"
   ]
  },
  {
   "cell_type": "markdown",
   "id": "ff9a646f",
   "metadata": {
    "slideshow": {
     "slide_type": "subslide"
    }
   },
   "source": [
    "# Whats your situation right now?"
   ]
  },
  {
   "cell_type": "markdown",
   "id": "ad4d8e56",
   "metadata": {
    "slideshow": {
     "slide_type": "subslide"
    }
   },
   "source": [
    "# You may be academic doing science!"
   ]
  },
  {
   "cell_type": "markdown",
   "id": "a3a3e0fb",
   "metadata": {},
   "source": [
    "<div>\n",
    "  <center> \n",
    "    <img src=\"img/Academic.png\" style=\"height:40%;\"/>\n",
    "  </center>\n",
    "</div>"
   ]
  },
  {
   "cell_type": "markdown",
   "id": "3ecc0c09",
   "metadata": {
    "slideshow": {
     "slide_type": "subslide"
    }
   },
   "source": [
    "# In industry"
   ]
  },
  {
   "cell_type": "markdown",
   "id": "ee552119",
   "metadata": {},
   "source": [
    "<div>\n",
    "  <center> \n",
    "    <img src=\"img/Industry.png\" style=\"height:40%;\"/>\n",
    "  </center>\n",
    "</div>"
   ]
  },
  {
   "cell_type": "markdown",
   "id": "10b669cc",
   "metadata": {
    "slideshow": {
     "slide_type": "subslide"
    }
   },
   "source": [
    "# Or you may be running a book club "
   ]
  },
  {
   "cell_type": "markdown",
   "id": "028ef31c",
   "metadata": {
    "cell_style": "split",
    "slideshow": {
     "slide_type": "fragment"
    }
   },
   "source": [
    "## On a book that uses Frequentist Methods\n",
    "\n",
    "<div>\n",
    "    <center>\n",
    "    <img src=\"https://mixtape.scunning.com/images/cover.jpg\" style=\"height:700px;\"/>\n",
    "    </center>\n",
    "</div>\n"
   ]
  },
  {
   "cell_type": "markdown",
   "id": "1daea2dd",
   "metadata": {
    "cell_style": "split",
    "slideshow": {
     "slide_type": "fragment"
    }
   },
   "source": [
    "## After writing a book on Bayesian Methods\n",
    "<div>\n",
    "  <center>\n",
    "<img src=\"https://bayesiancomputationbook.com/_images/Cover.jpg\" style=\"height:700px;\"/>\n",
    "  </center>\n",
    "</div>"
   ]
  },
  {
   "cell_type": "markdown",
   "id": "827d6c26",
   "metadata": {
    "slideshow": {
     "slide_type": "notes"
    }
   },
   "source": [
    "Where the book you've picked uses frequentist methods and people are asking you  \"I thought you were Bayesian, why would you choose this book?\""
   ]
  },
  {
   "cell_type": "markdown",
   "id": "9badc993",
   "metadata": {
    "slideshow": {
     "slide_type": "slide"
    }
   },
   "source": [
    "# Which should you be"
   ]
  },
  {
   "cell_type": "markdown",
   "id": "7b60f857",
   "metadata": {},
   "source": [
    "* Frequentist?\n",
    "* Bayesian?"
   ]
  },
  {
   "cell_type": "markdown",
   "id": "449512f4",
   "metadata": {
    "slideshow": {
     "slide_type": "fragment"
    }
   },
   "source": [
    "## Be neither\n"
   ]
  },
  {
   "cell_type": "markdown",
   "id": "d8906922",
   "metadata": {
    "slideshow": {
     "slide_type": "subslide"
    }
   },
   "source": [
    "# Be a data professional\n"
   ]
  },
  {
   "cell_type": "markdown",
   "id": "41cac817",
   "metadata": {
    "slideshow": {
     "slide_type": "fragment"
    }
   },
   "source": [
    "## Learn both"
   ]
  },
  {
   "cell_type": "markdown",
   "id": "8a93b0d9",
   "metadata": {
    "slideshow": {
     "slide_type": "subslide"
    }
   },
   "source": [
    "# As a data professional your job is to help people learn new things\n",
    "You need to\n",
    "* Know the various ways to do that\n",
    "* Be able to pick the right tool for the right situation\n",
    "* Understand what other professionals are doing"
   ]
  },
  {
   "cell_type": "markdown",
   "id": "e1333263",
   "metadata": {
    "slideshow": {
     "slide_type": "subslide"
    }
   },
   "source": [
    "# P(right tool | your situation)\n",
    "* What data is available\n",
    "* What question you're trying to answer\n",
    "* What is influential in your community\n",
    "* Where is there room for improvement\n",
    "* How the system or process you're using works"
   ]
  },
  {
   "cell_type": "markdown",
   "id": "e3aedd61",
   "metadata": {
    "slideshow": {
     "slide_type": "subslide"
    }
   },
   "source": [
    "# Can only make the choice if you're open to learning"
   ]
  },
  {
   "cell_type": "markdown",
   "id": "7fa94318",
   "metadata": {
    "slideshow": {
     "slide_type": "fragment"
    }
   },
   "source": [
    "## Not tied to a fixed identity"
   ]
  },
  {
   "cell_type": "markdown",
   "id": "4c3da630",
   "metadata": {
    "slideshow": {
     "slide_type": "slide"
    }
   },
   "source": [
    "# Why do I use Bayes method (more)?"
   ]
  },
  {
   "cell_type": "markdown",
   "id": "31d73dcf",
   "metadata": {
    "slideshow": {
     "slide_type": "fragment"
    }
   },
   "source": [
    "## Whats the difference?"
   ]
  },
  {
   "cell_type": "code",
   "execution_count": 18,
   "id": "8c620811",
   "metadata": {
    "slideshow": {
     "slide_type": "skip"
    }
   },
   "outputs": [],
   "source": [
    "mean = 2\n",
    "sd = 1\n",
    "sample_size = 8\n",
    "\n",
    "# rng = default_rng(12345)\n",
    "np.random.seed(0)\n",
    "observed_lead_times = stats.norm(mean, sd).rvs(sample_size)"
   ]
  },
  {
   "cell_type": "markdown",
   "id": "4a1fe07a",
   "metadata": {
    "slideshow": {
     "slide_type": "slide"
    }
   },
   "source": [
    "# Imagine you work for a rocket company"
   ]
  },
  {
   "cell_type": "markdown",
   "id": "db14af91",
   "metadata": {},
   "source": [
    "<div>\n",
    "  <center> \n",
    "    <img src=\"img/SpaceXPhoto.jpeg\" style=\"height:800px;\"/>\n",
    "  </center>\n",
    "</div>"
   ]
  },
  {
   "cell_type": "markdown",
   "id": "4181fa19",
   "metadata": {
    "slideshow": {
     "slide_type": "subslide"
    }
   },
   "source": [
    "# Gotta get stuff into space"
   ]
  },
  {
   "cell_type": "markdown",
   "id": "3e383a79",
   "metadata": {
    "slideshow": {
     "slide_type": "-"
    }
   },
   "source": [
    "We need this massive rocket part to be completed **in the next 4 days** or this $400 million dollar satellite launch will be delayed.  \n",
    "\n",
    "</br>\n",
    "\n",
    "Here's the last 8 delivery lead times from order to arrival."
   ]
  },
  {
   "cell_type": "code",
   "execution_count": 19,
   "id": "e8f20e2d",
   "metadata": {
    "slideshow": {
     "slide_type": "fragment"
    }
   },
   "outputs": [
    {
     "data": {
      "text/plain": [
       "array([3.76405235, 2.40015721, 2.97873798, 4.2408932 , 3.86755799,\n",
       "       1.02272212, 2.95008842, 1.84864279])"
      ]
     },
     "execution_count": 19,
     "metadata": {},
     "output_type": "execute_result"
    }
   ],
   "source": [
    "observed_lead_times"
   ]
  },
  {
   "cell_type": "markdown",
   "id": "8dae7584",
   "metadata": {
    "slideshow": {
     "slide_type": "fragment"
    }
   },
   "source": [
    "We need the part in 2 days"
   ]
  },
  {
   "cell_type": "markdown",
   "id": "a1fd1dcb",
   "metadata": {
    "slideshow": {
     "slide_type": "fragment"
    }
   },
   "source": [
    "Are we going to be late?"
   ]
  },
  {
   "cell_type": "markdown",
   "id": "a8057516",
   "metadata": {
    "slideshow": {
     "slide_type": "slide"
    }
   },
   "source": [
    "# Frequentist Analysis"
   ]
  },
  {
   "cell_type": "markdown",
   "id": "31d4d0fe",
   "metadata": {
    "slideshow": {
     "slide_type": "fragment"
    }
   },
   "source": [
    "* Long run probabilities\n",
    "* Make conclusions about groups of events, not single events\n",
    "* **A typical output**: Confidence intervals"
   ]
  },
  {
   "cell_type": "markdown",
   "id": "96ddd464",
   "metadata": {
    "slideshow": {
     "slide_type": "subslide"
    }
   },
   "source": [
    "## A quick overview"
   ]
  },
  {
   "cell_type": "code",
   "execution_count": 20,
   "id": "2f6502ad",
   "metadata": {
    "slideshow": {
     "slide_type": "-"
    }
   },
   "outputs": [
    {
     "data": {
      "text/plain": [
       "(2.884106507142941, 1.022668337083785)"
      ]
     },
     "execution_count": 20,
     "metadata": {},
     "output_type": "execute_result"
    }
   ],
   "source": [
    "calculated_mean = observed_lead_times.mean()\n",
    "calculated_sd  = observed_lead_times.std()\n",
    "calculated_mean, calculated_sd"
   ]
  },
  {
   "cell_type": "markdown",
   "id": "270ef149",
   "metadata": {
    "slideshow": {
     "slide_type": "subslide"
    }
   },
   "source": [
    "#### Some manual and automated calculations for quantities of interest"
   ]
  },
  {
   "cell_type": "code",
   "execution_count": 21,
   "id": "accecf5e",
   "metadata": {},
   "outputs": [
    {
     "data": {
      "text/plain": [
       "0.3865322990890955"
      ]
     },
     "execution_count": 21,
     "metadata": {},
     "output_type": "execute_result"
    }
   ],
   "source": [
    "### Note: Be careful about implicit degrees of freedom adjustments\n",
    "observed_lead_times.std(ddof=1) / np.sqrt(sample_size)"
   ]
  },
  {
   "cell_type": "code",
   "execution_count": 22,
   "id": "96d0c0ce",
   "metadata": {},
   "outputs": [
    {
     "data": {
      "text/plain": [
       "0.3865322990890955"
      ]
     },
     "execution_count": 22,
     "metadata": {},
     "output_type": "execute_result"
    }
   ],
   "source": [
    "stats.sem(observed_lead_times)"
   ]
  },
  {
   "cell_type": "markdown",
   "id": "3cc688fe",
   "metadata": {
    "slideshow": {
     "slide_type": "subslide"
    }
   },
   "source": [
    "## Calculate a 95% CI of the means"
   ]
  },
  {
   "cell_type": "code",
   "execution_count": 23,
   "id": "6cd76a0c",
   "metadata": {},
   "outputs": [
    {
     "data": {
      "text/plain": [
       "(2.1265171220668497, 3.6416958922190323)"
      ]
     },
     "execution_count": 23,
     "metadata": {},
     "output_type": "execute_result"
    }
   ],
   "source": [
    "ci = stats.norm.interval(alpha=0.95, loc=calculated_mean, scale=stats.sem(observed_lead_times)) \n",
    "ci"
   ]
  },
  {
   "cell_type": "markdown",
   "id": "e7a3817a",
   "metadata": {
    "slideshow": {
     "slide_type": "skip"
    }
   },
   "source": [
    "**Note:** This is NOT the confidence level that the next delivery will be within this interval with 95% chance."
   ]
  },
  {
   "cell_type": "markdown",
   "id": "f43b57fd",
   "metadata": {
    "slideshow": {
     "slide_type": "subslide"
    }
   },
   "source": [
    "# The fully worded conclusion"
   ]
  },
  {
   "cell_type": "markdown",
   "id": "8a2baced",
   "metadata": {},
   "source": [
    "If in 100 random hypothetical universes you have 8 more part deliveries, if you take the mean arrival lead time of those deliveries 5 of those means will be over 2 days"
   ]
  },
  {
   "cell_type": "markdown",
   "id": "493acf46",
   "metadata": {
    "slideshow": {
     "slide_type": "fragment"
    }
   },
   "source": [
    "### And we're done!"
   ]
  },
  {
   "cell_type": "markdown",
   "id": "f686faf8",
   "metadata": {
    "slideshow": {
     "slide_type": "subslide"
    }
   },
   "source": [
    "## Empirical Evaluation of Confidence Intervals\n",
    "1. Make one hundred draws of 8 samples each\n",
    "2. Calculate the mean of each and interval of each set of samples\n",
    "3. See where the true value falls"
   ]
  },
  {
   "cell_type": "code",
   "execution_count": 24,
   "id": "38d79259",
   "metadata": {},
   "outputs": [],
   "source": [
    "random_draws = stats.norm(mean, sd).rvs((100, sample_size))"
   ]
  },
  {
   "cell_type": "code",
   "execution_count": 25,
   "id": "c3a5b389",
   "metadata": {},
   "outputs": [],
   "source": [
    "calculated_mean = random_draws.mean(axis=1)\n",
    "calculated_sem = stats.sem(random_draws, axis=1)"
   ]
  },
  {
   "cell_type": "code",
   "execution_count": 26,
   "id": "06b98590",
   "metadata": {},
   "outputs": [
    {
     "data": {
      "text/plain": [
       "array([[2.11158899, 2.77989777],\n",
       "       [0.99433842, 2.74835976],\n",
       "       [1.7077111 , 3.34459179],\n",
       "       [1.10195903, 2.56876486],\n",
       "       [0.68355322, 2.40467249],\n",
       "       [1.0363565 , 2.05702103],\n",
       "       [1.04885218, 1.90126866],\n",
       "       [1.28976782, 2.36296958],\n",
       "       [1.20897305, 2.27029505],\n",
       "       [1.51965499, 3.24236789]])"
      ]
     },
     "execution_count": 26,
     "metadata": {},
     "output_type": "execute_result"
    }
   ],
   "source": [
    "ci = np.stack(stats.norm.interval(alpha=0.95, loc=calculated_mean, scale=calculated_sem), axis=1)\n",
    "ci[:10]"
   ]
  },
  {
   "cell_type": "markdown",
   "id": "5d288a2b",
   "metadata": {
    "slideshow": {
     "slide_type": "subslide"
    }
   },
   "source": [
    "## Confidence Interval Plot"
   ]
  },
  {
   "cell_type": "code",
   "execution_count": 27,
   "id": "cd74f480",
   "metadata": {},
   "outputs": [
    {
     "data": {
      "image/png": "[encoded data removed]",
      "text/plain": [
       "<Figure size 720x720 with 1 Axes>"
      ]
     },
     "metadata": {
      "needs_background": "light"
     },
     "output_type": "display_data"
    }
   ],
   "source": [
    "fig, ax = plt.subplots(figsize= (10,10))\n",
    "\n",
    "for i in range(ci.shape[0]):\n",
    "    if ci[i,0] <= mean and mean <= ci[i,1] :\n",
    "        c = \"g\"\n",
    "    else:\n",
    "        c=\"r\"\n",
    "    ax.hlines(y=i, xmin=ci[i,0], xmax=ci[i,1], linewidth=2, color=c )\n",
    "\n",
    "ax.set_title(\"Confidence intervals calculated from simulated data and whether they contain the true mean\")\n",
    "ax.axvline(2, linestyle=\"--\", alpha = .5);"
   ]
  },
  {
   "cell_type": "code",
   "execution_count": 28,
   "id": "9cec6970",
   "metadata": {
    "slideshow": {
     "slide_type": "skip"
    }
   },
   "outputs": [
    {
     "data": {
      "text/plain": [
       "91"
      ]
     },
     "execution_count": 28,
     "metadata": {},
     "output_type": "execute_result"
    }
   ],
   "source": [
    "true_mean_in_interval = np.logical_and(ci[:,0] <= mean, ci[:,1] >= mean)\n",
    "true_mean_in_interval.sum()"
   ]
  },
  {
   "cell_type": "markdown",
   "id": "022df6c9",
   "metadata": {
    "slideshow": {
     "slide_type": "skip"
    }
   },
   "source": [
    "## References\n",
    "* https://www.westga.edu/academics/research/vrc/assets/docs/tests_of_significance_notes.pdf\n",
    "* http://www.stat.yale.edu/Courses/1997-98/101/sigtest.htm"
   ]
  },
  {
   "cell_type": "markdown",
   "id": "1161149e",
   "metadata": {
    "slideshow": {
     "slide_type": "slide"
    }
   },
   "source": [
    "# Bayesian Analysis\n",
    "* Focuses more on beliefs in parameters\n",
    "* **A typical output:** Credible Intervals"
   ]
  },
  {
   "cell_type": "markdown",
   "id": "990fef28",
   "metadata": {
    "slideshow": {
     "slide_type": "subslide"
    }
   },
   "source": [
    "# Define a Model"
   ]
  },
  {
   "cell_type": "code",
   "execution_count": 29,
   "id": "5b62afc8",
   "metadata": {
    "slideshow": {
     "slide_type": "-"
    }
   },
   "outputs": [
    {
     "name": "stderr",
     "output_type": "stream",
     "text": [
      "Auto-assigning NUTS sampler...\n",
      "Initializing NUTS using jitter+adapt_diag...\n",
      "Multiprocess sampling (4 chains in 4 jobs)\n",
      "NUTS: [mean_lead_time, sd_lead_time]\n"
     ]
    },
    {
     "data": {
      "text/html": [
       "\n",
       "<style>\n",
       "    /* Turns off some styling */\n",
       "    progress {\n",
       "        /* gets rid of default border in Firefox and Opera. */\n",
       "        border: none;\n",
       "        /* Needs to be in here for Safari polyfill so background images work as expected. */\n",
       "        background-size: auto;\n",
       "    }\n",
       "    .progress-bar-interrupted, .progress-bar-interrupted::-webkit-progress-bar {\n",
       "        background: #F44336;\n",
       "    }\n",
       "</style>\n"
      ],
      "text/plain": [
       "<IPython.core.display.HTML object>"
      ]
     },
     "metadata": {},
     "output_type": "display_data"
    },
    {
     "data": {
      "text/html": [
       "\n",
       "    <div>\n",
       "      <progress value='8000' class='' max='8000' style='width:300px; height:20px; vertical-align: middle;'></progress>\n",
       "      100.00% [8000/8000 00:02<00:00 Sampling 4 chains, 0 divergences]\n",
       "    </div>\n",
       "    "
      ],
      "text/plain": [
       "<IPython.core.display.HTML object>"
      ]
     },
     "metadata": {},
     "output_type": "display_data"
    },
    {
     "name": "stderr",
     "output_type": "stream",
     "text": [
      "Sampling 4 chains for 1_000 tune and 1_000 draw iterations (4_000 + 4_000 draws total) took 2 seconds.\n",
      "The acceptance probability does not match the target. It is 0.8896, but should be close to 0.95. Try to increase the number of tuning steps.\n"
     ]
    },
    {
     "data": {
      "text/html": [
       "\n",
       "<style>\n",
       "    /* Turns off some styling */\n",
       "    progress {\n",
       "        /* gets rid of default border in Firefox and Opera. */\n",
       "        border: none;\n",
       "        /* Needs to be in here for Safari polyfill so background images work as expected. */\n",
       "        background-size: auto;\n",
       "    }\n",
       "    .progress-bar-interrupted, .progress-bar-interrupted::-webkit-progress-bar {\n",
       "        background: #F44336;\n",
       "    }\n",
       "</style>\n"
      ],
      "text/plain": [
       "<IPython.core.display.HTML object>"
      ]
     },
     "metadata": {},
     "output_type": "display_data"
    },
    {
     "data": {
      "text/html": [
       "\n",
       "    <div>\n",
       "      <progress value='4000' class='' max='4000' style='width:300px; height:20px; vertical-align: middle;'></progress>\n",
       "      100.00% [4000/4000 00:00<00:00]\n",
       "    </div>\n",
       "    "
      ],
      "text/plain": [
       "<IPython.core.display.HTML object>"
      ]
     },
     "metadata": {},
     "output_type": "display_data"
    }
   ],
   "source": [
    "with pm.Model() as rocket_lead_time:\n",
    "    mean_lead_time = pm.Normal(\"mean_lead_time\", 10, 2)\n",
    "    sd_lead_time = pm.HalfNormal(\"sd_lead_time\", 10)\n",
    "    lead_times = pm.TruncatedNormal(\"lead_times\", mu=mean_lead_time, \n",
    "                                                  sigma=sd_lead_time,\n",
    "                                                  lower=0,\n",
    "                                                  observed=observed_lead_times)\n",
    "    samples = pm.sample(target_accept=.95)\n",
    "    future_rocket_lead_times = pm.sample_posterior_predictive(samples)"
   ]
  },
  {
   "cell_type": "markdown",
   "id": "59dc7c90",
   "metadata": {
    "slideshow": {
     "slide_type": "subslide"
    }
   },
   "source": [
    "# Get predictions for individual future part lead times"
   ]
  },
  {
   "cell_type": "code",
   "execution_count": 30,
   "id": "a7b3d7cf",
   "metadata": {},
   "outputs": [
    {
     "data": {
      "text/html": [
       "<div><svg style=\"position: absolute; width: 0; height: 0; overflow: hidden\">\n",
       "<defs>\n",
       "<symbol id=\"icon-database\" viewBox=\"0 0 32 32\">\n",
       "<path d=\"M16 0c-8.837 0-16 2.239-16 5v4c0 2.761 7.163 5 16 5s16-2.239 16-5v-4c0-2.761-7.163-5-16-5z\"></path>\n",
       "<path d=\"M16 17c-8.837 0-16-2.239-16-5v6c0 2.761 7.163 5 16 5s16-2.239 16-5v-6c0 2.761-7.163 5-16 5z\"></path>\n",
       "<path d=\"M16 26c-8.837 0-16-2.239-16-5v6c0 2.761 7.163 5 16 5s16-2.239 16-5v-6c0 2.761-7.163 5-16 5z\"></path>\n",
       "</symbol>\n",
       "<symbol id=\"icon-file-text2\" viewBox=\"0 0 32 32\">\n",
       "<path d=\"M28.681 7.159c-0.694-0.947-1.662-2.053-2.724-3.116s-2.169-2.030-3.116-2.724c-1.612-1.182-2.393-1.319-2.841-1.319h-15.5c-1.378 0-2.5 1.121-2.5 2.5v27c0 1.378 1.122 2.5 2.5 2.5h23c1.378 0 2.5-1.122 2.5-2.5v-19.5c0-0.448-0.137-1.23-1.319-2.841zM24.543 5.457c0.959 0.959 1.712 1.825 2.268 2.543h-4.811v-4.811c0.718 0.556 1.584 1.309 2.543 2.268zM28 29.5c0 0.271-0.229 0.5-0.5 0.5h-23c-0.271 0-0.5-0.229-0.5-0.5v-27c0-0.271 0.229-0.5 0.5-0.5 0 0 15.499-0 15.5 0v7c0 0.552 0.448 1 1 1h7v19.5z\"></path>\n",
       "<path d=\"M23 26h-14c-0.552 0-1-0.448-1-1s0.448-1 1-1h14c0.552 0 1 0.448 1 1s-0.448 1-1 1z\"></path>\n",
       "<path d=\"M23 22h-14c-0.552 0-1-0.448-1-1s0.448-1 1-1h14c0.552 0 1 0.448 1 1s-0.448 1-1 1z\"></path>\n",
       "<path d=\"M23 18h-14c-0.552 0-1-0.448-1-1s0.448-1 1-1h14c0.552 0 1 0.448 1 1s-0.448 1-1 1z\"></path>\n",
       "</symbol>\n",
       "</defs>\n",
       "</svg>\n",
       "<style>/* CSS stylesheet for displaying xarray objects in jupyterlab.\n",
       " *\n",
       " */\n",
       "\n",
       ":root {\n",
       "  --xr-font-color0: var(--jp-content-font-color0, rgba(0, 0, 0, 1));\n",
       "  --xr-font-color2: var(--jp-content-font-color2, rgba(0, 0, 0, 0.54));\n",
       "  --xr-font-color3: var(--jp-content-font-color3, rgba(0, 0, 0, 0.38));\n",
       "  --xr-border-color: var(--jp-border-color2, #e0e0e0);\n",
       "  --xr-disabled-color: var(--jp-layout-color3, #bdbdbd);\n",
       "  --xr-background-color: var(--jp-layout-color0, white);\n",
       "  --xr-background-color-row-even: var(--jp-layout-color1, white);\n",
       "  --xr-background-color-row-odd: var(--jp-layout-color2, #eeeeee);\n",
       "}\n",
       "\n",
       "html[theme=dark],\n",
       "body.vscode-dark {\n",
       "  --xr-font-color0: rgba(255, 255, 255, 1);\n",
       "  --xr-font-color2: rgba(255, 255, 255, 0.54);\n",
       "  --xr-font-color3: rgba(255, 255, 255, 0.38);\n",
       "  --xr-border-color: #1F1F1F;\n",
       "  --xr-disabled-color: #515151;\n",
       "  --xr-background-color: #111111;\n",
       "  --xr-background-color-row-even: #111111;\n",
       "  --xr-background-color-row-odd: #313131;\n",
       "}\n",
       "\n",
       ".xr-wrap {\n",
       "  display: block !important;\n",
       "  min-width: 300px;\n",
       "  max-width: 700px;\n",
       "}\n",
       "\n",
       ".xr-text-repr-fallback {\n",
       "  /* fallback to plain text repr when CSS is not injected (untrusted notebook) */\n",
       "  display: none;\n",
       "}\n",
       "\n",
       ".xr-header {\n",
       "  padding-top: 6px;\n",
       "  padding-bottom: 6px;\n",
       "  margin-bottom: 4px;\n",
       "  border-bottom: solid 1px var(--xr-border-color);\n",
       "}\n",
       "\n",
       ".xr-header > div,\n",
       ".xr-header > ul {\n",
       "  display: inline;\n",
       "  margin-top: 0;\n",
       "  margin-bottom: 0;\n",
       "}\n",
       "\n",
       ".xr-obj-type,\n",
       ".xr-array-name {\n",
       "  margin-left: 2px;\n",
       "  margin-right: 10px;\n",
       "}\n",
       "\n",
       ".xr-obj-type {\n",
       "  color: var(--xr-font-color2);\n",
       "}\n",
       "\n",
       ".xr-sections {\n",
       "  padding-left: 0 !important;\n",
       "  display: grid;\n",
       "  grid-template-columns: 150px auto auto 1fr 20px 20px;\n",
       "}\n",
       "\n",
       ".xr-section-item {\n",
       "  display: contents;\n",
       "}\n",
       "\n",
       ".xr-section-item input {\n",
       "  display: none;\n",
       "}\n",
       "\n",
       ".xr-section-item input + label {\n",
       "  color: var(--xr-disabled-color);\n",
       "}\n",
       "\n",
       ".xr-section-item input:enabled + label {\n",
       "  cursor: pointer;\n",
       "  color: var(--xr-font-color2);\n",
       "}\n",
       "\n",
       ".xr-section-item input:enabled + label:hover {\n",
       "  color: var(--xr-font-color0);\n",
       "}\n",
       "\n",
       ".xr-section-summary {\n",
       "  grid-column: 1;\n",
       "  color: var(--xr-font-color2);\n",
       "  font-weight: 500;\n",
       "}\n",
       "\n",
       ".xr-section-summary > span {\n",
       "  display: inline-block;\n",
       "  padding-left: 0.5em;\n",
       "}\n",
       "\n",
       ".xr-section-summary-in:disabled + label {\n",
       "  color: var(--xr-font-color2);\n",
       "}\n",
       "\n",
       ".xr-section-summary-in + label:before {\n",
       "  display: inline-block;\n",
       "  content: '►';\n",
       "  font-size: 11px;\n",
       "  width: 15px;\n",
       "  text-align: center;\n",
       "}\n",
       "\n",
       ".xr-section-summary-in:disabled + label:before {\n",
       "  color: var(--xr-disabled-color);\n",
       "}\n",
       "\n",
       ".xr-section-summary-in:checked + label:before {\n",
       "  content: '▼';\n",
       "}\n",
       "\n",
       ".xr-section-summary-in:checked + label > span {\n",
       "  display: none;\n",
       "}\n",
       "\n",
       ".xr-section-summary,\n",
       ".xr-section-inline-details {\n",
       "  padding-top: 4px;\n",
       "  padding-bottom: 4px;\n",
       "}\n",
       "\n",
       ".xr-section-inline-details {\n",
       "  grid-column: 2 / -1;\n",
       "}\n",
       "\n",
       ".xr-section-details {\n",
       "  display: none;\n",
       "  grid-column: 1 / -1;\n",
       "  margin-bottom: 5px;\n",
       "}\n",
       "\n",
       ".xr-section-summary-in:checked ~ .xr-section-details {\n",
       "  display: contents;\n",
       "}\n",
       "\n",
       ".xr-array-wrap {\n",
       "  grid-column: 1 / -1;\n",
       "  display: grid;\n",
       "  grid-template-columns: 20px auto;\n",
       "}\n",
       "\n",
       ".xr-array-wrap > label {\n",
       "  grid-column: 1;\n",
       "  vertical-align: top;\n",
       "}\n",
       "\n",
       ".xr-preview {\n",
       "  color: var(--xr-font-color3);\n",
       "}\n",
       "\n",
       ".xr-array-preview,\n",
       ".xr-array-data {\n",
       "  padding: 0 5px !important;\n",
       "  grid-column: 2;\n",
       "}\n",
       "\n",
       ".xr-array-data,\n",
       ".xr-array-in:checked ~ .xr-array-preview {\n",
       "  display: none;\n",
       "}\n",
       "\n",
       ".xr-array-in:checked ~ .xr-array-data,\n",
       ".xr-array-preview {\n",
       "  display: inline-block;\n",
       "}\n",
       "\n",
       ".xr-dim-list {\n",
       "  display: inline-block !important;\n",
       "  list-style: none;\n",
       "  padding: 0 !important;\n",
       "  margin: 0;\n",
       "}\n",
       "\n",
       ".xr-dim-list li {\n",
       "  display: inline-block;\n",
       "  padding: 0;\n",
       "  margin: 0;\n",
       "}\n",
       "\n",
       ".xr-dim-list:before {\n",
       "  content: '(';\n",
       "}\n",
       "\n",
       ".xr-dim-list:after {\n",
       "  content: ')';\n",
       "}\n",
       "\n",
       ".xr-dim-list li:not(:last-child):after {\n",
       "  content: ',';\n",
       "  padding-right: 5px;\n",
       "}\n",
       "\n",
       ".xr-has-index {\n",
       "  font-weight: bold;\n",
       "}\n",
       "\n",
       ".xr-var-list,\n",
       ".xr-var-item {\n",
       "  display: contents;\n",
       "}\n",
       "\n",
       ".xr-var-item > div,\n",
       ".xr-var-item label,\n",
       ".xr-var-item > .xr-var-name span {\n",
       "  background-color: var(--xr-background-color-row-even);\n",
       "  margin-bottom: 0;\n",
       "}\n",
       "\n",
       ".xr-var-item > .xr-var-name:hover span {\n",
       "  padding-right: 5px;\n",
       "}\n",
       "\n",
       ".xr-var-list > li:nth-child(odd) > div,\n",
       ".xr-var-list > li:nth-child(odd) > label,\n",
       ".xr-var-list > li:nth-child(odd) > .xr-var-name span {\n",
       "  background-color: var(--xr-background-color-row-odd);\n",
       "}\n",
       "\n",
       ".xr-var-name {\n",
       "  grid-column: 1;\n",
       "}\n",
       "\n",
       ".xr-var-dims {\n",
       "  grid-column: 2;\n",
       "}\n",
       "\n",
       ".xr-var-dtype {\n",
       "  grid-column: 3;\n",
       "  text-align: right;\n",
       "  color: var(--xr-font-color2);\n",
       "}\n",
       "\n",
       ".xr-var-preview {\n",
       "  grid-column: 4;\n",
       "}\n",
       "\n",
       ".xr-var-name,\n",
       ".xr-var-dims,\n",
       ".xr-var-dtype,\n",
       ".xr-preview,\n",
       ".xr-attrs dt {\n",
       "  white-space: nowrap;\n",
       "  overflow: hidden;\n",
       "  text-overflow: ellipsis;\n",
       "  padding-right: 10px;\n",
       "}\n",
       "\n",
       ".xr-var-name:hover,\n",
       ".xr-var-dims:hover,\n",
       ".xr-var-dtype:hover,\n",
       ".xr-attrs dt:hover {\n",
       "  overflow: visible;\n",
       "  width: auto;\n",
       "  z-index: 1;\n",
       "}\n",
       "\n",
       ".xr-var-attrs,\n",
       ".xr-var-data {\n",
       "  display: none;\n",
       "  background-color: var(--xr-background-color) !important;\n",
       "  padding-bottom: 5px !important;\n",
       "}\n",
       "\n",
       ".xr-var-attrs-in:checked ~ .xr-var-attrs,\n",
       ".xr-var-data-in:checked ~ .xr-var-data {\n",
       "  display: block;\n",
       "}\n",
       "\n",
       ".xr-var-data > table {\n",
       "  float: right;\n",
       "}\n",
       "\n",
       ".xr-var-name span,\n",
       ".xr-var-data,\n",
       ".xr-attrs {\n",
       "  padding-left: 25px !important;\n",
       "}\n",
       "\n",
       ".xr-attrs,\n",
       ".xr-var-attrs,\n",
       ".xr-var-data {\n",
       "  grid-column: 1 / -1;\n",
       "}\n",
       "\n",
       "dl.xr-attrs {\n",
       "  padding: 0;\n",
       "  margin: 0;\n",
       "  display: grid;\n",
       "  grid-template-columns: 125px auto;\n",
       "}\n",
       "\n",
       ".xr-attrs dt,\n",
       ".xr-attrs dd {\n",
       "  padding: 0;\n",
       "  margin: 0;\n",
       "  float: left;\n",
       "  padding-right: 10px;\n",
       "  width: auto;\n",
       "}\n",
       "\n",
       ".xr-attrs dt {\n",
       "  font-weight: normal;\n",
       "  grid-column: 1;\n",
       "}\n",
       "\n",
       ".xr-attrs dt:hover span {\n",
       "  display: inline-block;\n",
       "  background: var(--xr-background-color);\n",
       "  padding-right: 10px;\n",
       "}\n",
       "\n",
       ".xr-attrs dd {\n",
       "  grid-column: 2;\n",
       "  white-space: pre-wrap;\n",
       "  word-break: break-all;\n",
       "}\n",
       "\n",
       ".xr-icon-database,\n",
       ".xr-icon-file-text2 {\n",
       "  display: inline-block;\n",
       "  vertical-align: middle;\n",
       "  width: 1em;\n",
       "  height: 1.5em !important;\n",
       "  stroke-width: 0;\n",
       "  stroke: currentColor;\n",
       "  fill: currentColor;\n",
       "}\n",
       "</style><pre class='xr-text-repr-fallback'>&lt;xarray.DataArray &#x27;lead_times&#x27; (chain: 4, draw: 1000, lead_times_dim_0: 8)&gt;\n",
       "array([[[ 7.62423157,  4.9880461 ,  5.70837225, ...,  8.60237027,\n",
       "          3.6726113 ,  4.88200998],\n",
       "        [ 7.04222629,  6.51833697,  3.82462982, ...,  7.64390659,\n",
       "          2.18708706,  1.03802637],\n",
       "        [ 3.15069898,  3.02008551,  4.10221045, ...,  2.29598531,\n",
       "          2.05853143,  1.31785331],\n",
       "        ...,\n",
       "        [ 5.9385172 ,  4.8367692 ,  3.00187332, ...,  2.09819493,\n",
       "          5.15380034,  5.57396289],\n",
       "        [ 3.86439759,  4.63595456,  3.64985741, ...,  4.56544768,\n",
       "          4.80178861,  3.85927766],\n",
       "        [ 3.63465812,  2.64699268,  3.47444484, ...,  2.3797755 ,\n",
       "          4.977463  ,  4.0167255 ]],\n",
       "\n",
       "       [[ 0.74147614,  4.17573861,  5.575251  , ...,  4.52689058,\n",
       "          8.70893452,  2.34343565],\n",
       "        [ 5.13738171, 10.64064122,  2.97637598, ...,  6.979377  ,\n",
       "          9.18540341,  5.48979935],\n",
       "        [11.92522516,  9.86375914, 14.16408281, ...,  4.52285692,\n",
       "         15.98379906,  5.2902552 ],\n",
       "...\n",
       "        [ 5.01096564,  1.27982445,  4.63947959, ...,  2.72216361,\n",
       "          2.03856651,  0.39972319],\n",
       "        [ 3.04049311,  4.52432611,  2.81064806, ...,  4.09483923,\n",
       "          4.39039522,  3.28146012],\n",
       "        [ 0.69286294,  3.83385268,  4.50432791, ...,  4.25372532,\n",
       "          2.8723098 ,  1.82518659]],\n",
       "\n",
       "       [[ 2.8312977 ,  0.93227757,  2.62125236, ...,  1.83324813,\n",
       "          7.47613994,  5.14420552],\n",
       "        [ 2.00502608,  2.1225971 ,  6.59586094, ...,  1.39069359,\n",
       "          1.57549499,  5.48104526],\n",
       "        [ 6.08332641,  4.57255887,  5.24419563, ...,  3.42066927,\n",
       "          3.26197032,  1.49562295],\n",
       "        ...,\n",
       "        [ 3.65100009,  4.60831046,  3.24579628, ...,  3.45037669,\n",
       "          5.29306678,  3.07465967],\n",
       "        [ 3.79764278,  4.50165646,  6.34167946, ...,  1.60089401,\n",
       "          2.5512777 ,  4.54927209],\n",
       "        [ 4.44755112,  2.61510005,  6.82678196, ...,  3.90602108,\n",
       "          4.16610004,  2.46364425]]])\n",
       "Coordinates:\n",
       "  * chain             (chain) int64 0 1 2 3\n",
       "  * draw              (draw) int64 0 1 2 3 4 5 6 ... 993 994 995 996 997 998 999\n",
       "  * lead_times_dim_0  (lead_times_dim_0) int64 0 1 2 3 4 5 6 7</pre><div class='xr-wrap' style='display:none'><div class='xr-header'><div class='xr-obj-type'>xarray.DataArray</div><div class='xr-array-name'>'lead_times'</div><ul class='xr-dim-list'><li><span class='xr-has-index'>chain</span>: 4</li><li><span class='xr-has-index'>draw</span>: 1000</li><li><span class='xr-has-index'>lead_times_dim_0</span>: 8</li></ul></div><ul class='xr-sections'><li class='xr-section-item'><div class='xr-array-wrap'><input id='section-901227c5-ee9d-4092-bf23-2ed77fc62983' class='xr-array-in' type='checkbox' checked><label for='section-901227c5-ee9d-4092-bf23-2ed77fc62983' title='Show/hide data repr'><svg class='icon xr-icon-database'><use xlink:href='#icon-database'></use></svg></label><div class='xr-array-preview xr-preview'><span>7.624 4.988 5.708 3.185 2.497 8.602 ... 3.357 1.719 3.906 4.166 2.464</span></div><div class='xr-array-data'><pre>array([[[ 7.62423157,  4.9880461 ,  5.70837225, ...,  8.60237027,\n",
       "          3.6726113 ,  4.88200998],\n",
       "        [ 7.04222629,  6.51833697,  3.82462982, ...,  7.64390659,\n",
       "          2.18708706,  1.03802637],\n",
       "        [ 3.15069898,  3.02008551,  4.10221045, ...,  2.29598531,\n",
       "          2.05853143,  1.31785331],\n",
       "        ...,\n",
       "        [ 5.9385172 ,  4.8367692 ,  3.00187332, ...,  2.09819493,\n",
       "          5.15380034,  5.57396289],\n",
       "        [ 3.86439759,  4.63595456,  3.64985741, ...,  4.56544768,\n",
       "          4.80178861,  3.85927766],\n",
       "        [ 3.63465812,  2.64699268,  3.47444484, ...,  2.3797755 ,\n",
       "          4.977463  ,  4.0167255 ]],\n",
       "\n",
       "       [[ 0.74147614,  4.17573861,  5.575251  , ...,  4.52689058,\n",
       "          8.70893452,  2.34343565],\n",
       "        [ 5.13738171, 10.64064122,  2.97637598, ...,  6.979377  ,\n",
       "          9.18540341,  5.48979935],\n",
       "        [11.92522516,  9.86375914, 14.16408281, ...,  4.52285692,\n",
       "         15.98379906,  5.2902552 ],\n",
       "...\n",
       "        [ 5.01096564,  1.27982445,  4.63947959, ...,  2.72216361,\n",
       "          2.03856651,  0.39972319],\n",
       "        [ 3.04049311,  4.52432611,  2.81064806, ...,  4.09483923,\n",
       "          4.39039522,  3.28146012],\n",
       "        [ 0.69286294,  3.83385268,  4.50432791, ...,  4.25372532,\n",
       "          2.8723098 ,  1.82518659]],\n",
       "\n",
       "       [[ 2.8312977 ,  0.93227757,  2.62125236, ...,  1.83324813,\n",
       "          7.47613994,  5.14420552],\n",
       "        [ 2.00502608,  2.1225971 ,  6.59586094, ...,  1.39069359,\n",
       "          1.57549499,  5.48104526],\n",
       "        [ 6.08332641,  4.57255887,  5.24419563, ...,  3.42066927,\n",
       "          3.26197032,  1.49562295],\n",
       "        ...,\n",
       "        [ 3.65100009,  4.60831046,  3.24579628, ...,  3.45037669,\n",
       "          5.29306678,  3.07465967],\n",
       "        [ 3.79764278,  4.50165646,  6.34167946, ...,  1.60089401,\n",
       "          2.5512777 ,  4.54927209],\n",
       "        [ 4.44755112,  2.61510005,  6.82678196, ...,  3.90602108,\n",
       "          4.16610004,  2.46364425]]])</pre></div></div></li><li class='xr-section-item'><input id='section-e15151d6-a689-4db6-b5df-ac21d442c060' class='xr-section-summary-in' type='checkbox'  checked><label for='section-e15151d6-a689-4db6-b5df-ac21d442c060' class='xr-section-summary' >Coordinates: <span>(3)</span></label><div class='xr-section-inline-details'></div><div class='xr-section-details'><ul class='xr-var-list'><li class='xr-var-item'><div class='xr-var-name'><span class='xr-has-index'>chain</span></div><div class='xr-var-dims'>(chain)</div><div class='xr-var-dtype'>int64</div><div class='xr-var-preview xr-preview'>0 1 2 3</div><input id='attrs-bcd9880f-323f-4603-95e8-b2377ec65729' class='xr-var-attrs-in' type='checkbox' disabled><label for='attrs-bcd9880f-323f-4603-95e8-b2377ec65729' title='Show/Hide attributes'><svg class='icon xr-icon-file-text2'><use xlink:href='#icon-file-text2'></use></svg></label><input id='data-a9f7ea6d-9a72-4225-8e9b-91424bd19197' class='xr-var-data-in' type='checkbox'><label for='data-a9f7ea6d-9a72-4225-8e9b-91424bd19197' title='Show/Hide data repr'><svg class='icon xr-icon-database'><use xlink:href='#icon-database'></use></svg></label><div class='xr-var-attrs'><dl class='xr-attrs'></dl></div><div class='xr-var-data'><pre>array([0, 1, 2, 3])</pre></div></li><li class='xr-var-item'><div class='xr-var-name'><span class='xr-has-index'>draw</span></div><div class='xr-var-dims'>(draw)</div><div class='xr-var-dtype'>int64</div><div class='xr-var-preview xr-preview'>0 1 2 3 4 5 ... 995 996 997 998 999</div><input id='attrs-ffb87f82-26a8-4b21-8156-cbab8ee76260' class='xr-var-attrs-in' type='checkbox' disabled><label for='attrs-ffb87f82-26a8-4b21-8156-cbab8ee76260' title='Show/Hide attributes'><svg class='icon xr-icon-file-text2'><use xlink:href='#icon-file-text2'></use></svg></label><input id='data-de7b0098-619b-463b-b382-4d0c559426ed' class='xr-var-data-in' type='checkbox'><label for='data-de7b0098-619b-463b-b382-4d0c559426ed' title='Show/Hide data repr'><svg class='icon xr-icon-database'><use xlink:href='#icon-database'></use></svg></label><div class='xr-var-attrs'><dl class='xr-attrs'></dl></div><div class='xr-var-data'><pre>array([  0,   1,   2, ..., 997, 998, 999])</pre></div></li><li class='xr-var-item'><div class='xr-var-name'><span class='xr-has-index'>lead_times_dim_0</span></div><div class='xr-var-dims'>(lead_times_dim_0)</div><div class='xr-var-dtype'>int64</div><div class='xr-var-preview xr-preview'>0 1 2 3 4 5 6 7</div><input id='attrs-a8541a86-1663-4355-8af1-930506234f53' class='xr-var-attrs-in' type='checkbox' disabled><label for='attrs-a8541a86-1663-4355-8af1-930506234f53' title='Show/Hide attributes'><svg class='icon xr-icon-file-text2'><use xlink:href='#icon-file-text2'></use></svg></label><input id='data-38d41236-3ae9-4cf5-923c-962ec7047269' class='xr-var-data-in' type='checkbox'><label for='data-38d41236-3ae9-4cf5-923c-962ec7047269' title='Show/Hide data repr'><svg class='icon xr-icon-database'><use xlink:href='#icon-database'></use></svg></label><div class='xr-var-attrs'><dl class='xr-attrs'></dl></div><div class='xr-var-data'><pre>array([0, 1, 2, 3, 4, 5, 6, 7])</pre></div></li></ul></div></li><li class='xr-section-item'><input id='section-1e2e38a7-4123-4220-b208-e7ca53de05ba' class='xr-section-summary-in' type='checkbox' disabled ><label for='section-1e2e38a7-4123-4220-b208-e7ca53de05ba' class='xr-section-summary'  title='Expand/collapse section'>Attributes: <span>(0)</span></label><div class='xr-section-inline-details'></div><div class='xr-section-details'><dl class='xr-attrs'></dl></div></li></ul></div></div>"
      ],
      "text/plain": [
       "<xarray.DataArray 'lead_times' (chain: 4, draw: 1000, lead_times_dim_0: 8)>\n",
       "array([[[ 7.62423157,  4.9880461 ,  5.70837225, ...,  8.60237027,\n",
       "          3.6726113 ,  4.88200998],\n",
       "        [ 7.04222629,  6.51833697,  3.82462982, ...,  7.64390659,\n",
       "          2.18708706,  1.03802637],\n",
       "        [ 3.15069898,  3.02008551,  4.10221045, ...,  2.29598531,\n",
       "          2.05853143,  1.31785331],\n",
       "        ...,\n",
       "        [ 5.9385172 ,  4.8367692 ,  3.00187332, ...,  2.09819493,\n",
       "          5.15380034,  5.57396289],\n",
       "        [ 3.86439759,  4.63595456,  3.64985741, ...,  4.56544768,\n",
       "          4.80178861,  3.85927766],\n",
       "        [ 3.63465812,  2.64699268,  3.47444484, ...,  2.3797755 ,\n",
       "          4.977463  ,  4.0167255 ]],\n",
       "\n",
       "       [[ 0.74147614,  4.17573861,  5.575251  , ...,  4.52689058,\n",
       "          8.70893452,  2.34343565],\n",
       "        [ 5.13738171, 10.64064122,  2.97637598, ...,  6.979377  ,\n",
       "          9.18540341,  5.48979935],\n",
       "        [11.92522516,  9.86375914, 14.16408281, ...,  4.52285692,\n",
       "         15.98379906,  5.2902552 ],\n",
       "...\n",
       "        [ 5.01096564,  1.27982445,  4.63947959, ...,  2.72216361,\n",
       "          2.03856651,  0.39972319],\n",
       "        [ 3.04049311,  4.52432611,  2.81064806, ...,  4.09483923,\n",
       "          4.39039522,  3.28146012],\n",
       "        [ 0.69286294,  3.83385268,  4.50432791, ...,  4.25372532,\n",
       "          2.8723098 ,  1.82518659]],\n",
       "\n",
       "       [[ 2.8312977 ,  0.93227757,  2.62125236, ...,  1.83324813,\n",
       "          7.47613994,  5.14420552],\n",
       "        [ 2.00502608,  2.1225971 ,  6.59586094, ...,  1.39069359,\n",
       "          1.57549499,  5.48104526],\n",
       "        [ 6.08332641,  4.57255887,  5.24419563, ...,  3.42066927,\n",
       "          3.26197032,  1.49562295],\n",
       "        ...,\n",
       "        [ 3.65100009,  4.60831046,  3.24579628, ...,  3.45037669,\n",
       "          5.29306678,  3.07465967],\n",
       "        [ 3.79764278,  4.50165646,  6.34167946, ...,  1.60089401,\n",
       "          2.5512777 ,  4.54927209],\n",
       "        [ 4.44755112,  2.61510005,  6.82678196, ...,  3.90602108,\n",
       "          4.16610004,  2.46364425]]])\n",
       "Coordinates:\n",
       "  * chain             (chain) int64 0 1 2 3\n",
       "  * draw              (draw) int64 0 1 2 3 4 5 6 ... 993 994 995 996 997 998 999\n",
       "  * lead_times_dim_0  (lead_times_dim_0) int64 0 1 2 3 4 5 6 7"
      ]
     },
     "execution_count": 30,
     "metadata": {},
     "output_type": "execute_result"
    }
   ],
   "source": [
    "future_rocket_lead_times.posterior_predictive.lead_times"
   ]
  },
  {
   "cell_type": "markdown",
   "id": "b3e35cfd",
   "metadata": {
    "slideshow": {
     "slide_type": "subslide"
    }
   },
   "source": [
    "# Posterior Predictive Plot"
   ]
  },
  {
   "cell_type": "code",
   "execution_count": 31,
   "id": "7638480a",
   "metadata": {},
   "outputs": [
    {
     "data": {
      "image/png": "[encoded data removed]",
      "text/plain": [
       "<Figure size 1440x576 with 1 Axes>"
      ]
     },
     "metadata": {
      "needs_background": "light"
     },
     "output_type": "display_data"
    }
   ],
   "source": [
    "fig, ax = plt.subplots(figsize=(20, 8))\n",
    "az.plot_ppc(future_rocket_lead_times, ax=ax);"
   ]
  },
  {
   "cell_type": "markdown",
   "id": "cc2bdbef",
   "metadata": {
    "slideshow": {
     "slide_type": "subslide"
    }
   },
   "source": [
    "# Credible intervals"
   ]
  },
  {
   "cell_type": "code",
   "execution_count": 32,
   "id": "a05050ab",
   "metadata": {},
   "outputs": [
    {
     "data": {
      "image/png": "[encoded data removed]",
      "text/plain": [
       "<Figure size 1440x576 with 1 Axes>"
      ]
     },
     "metadata": {
      "needs_background": "light"
     },
     "output_type": "display_data"
    }
   ],
   "source": [
    "fig, ax = plt.subplots(figsize=(20, 8))\n",
    "az.plot_posterior(future_rocket_lead_times.posterior_predictive.lead_times.values.reshape(-1), ref_val=2, ax=ax);"
   ]
  },
  {
   "cell_type": "markdown",
   "id": "ac4924cb",
   "metadata": {
    "slideshow": {
     "slide_type": "slide"
    }
   },
   "source": [
    "# Why Bayes works for my situations\n"
   ]
  },
  {
   "cell_type": "markdown",
   "id": "fb357205",
   "metadata": {},
   "source": [
    "## I personally don't\n",
    "* Have lot of data\n",
    "* Do comparative hypothesis testing\n",
    "  * Like A/B Tests\n",
    "* Work with experimental data\n",
    "  * Randomized Controls Trials\n",
    "  * Constructed Studies\n",
    "* Work primarily with statisticians \n",
    "* Care about groups of data\n",
    "  * Or the mean of a group"
   ]
  },
  {
   "cell_type": "markdown",
   "id": "e3f737b1",
   "metadata": {
    "slideshow": {
     "slide_type": "fragment"
    }
   },
   "source": [
    "## There is nothing wrong with frequentist analysis"
   ]
  },
  {
   "cell_type": "markdown",
   "id": "a76245ae",
   "metadata": {
    "slideshow": {
     "slide_type": "slide"
    }
   },
   "source": [
    "# There's just different Assumptions"
   ]
  },
  {
   "cell_type": "markdown",
   "id": "0b2b86ae",
   "metadata": {
    "slideshow": {
     "slide_type": "fragment"
    }
   },
   "source": [
    "**Frequentist**: Fixed parameter, random data, \"Frequencies of things\""
   ]
  },
  {
   "cell_type": "markdown",
   "id": "7ab0eb26",
   "metadata": {
    "slideshow": {
     "slide_type": "fragment"
    }
   },
   "source": [
    "**Bayesian**: Unknown Parameters, fixed data, \"Beliefs of parameters\""
   ]
  },
  {
   "cell_type": "markdown",
   "id": "e22d576e",
   "metadata": {
    "slideshow": {
     "slide_type": "subslide"
    }
   },
   "source": [
    "# Same goal"
   ]
  },
  {
   "cell_type": "markdown",
   "id": "bf9243bd",
   "metadata": {},
   "source": [
    "<div>\n",
    "  <center>\n",
    "    <img src=\"img/EpicHandshake.jpeg\" style=\"height:700px;\"/>\n",
    "  </center>\n",
    "</div>"
   ]
  },
  {
   "cell_type": "markdown",
   "id": "6e9ee093",
   "metadata": {
    "slideshow": {
     "slide_type": "subslide"
    }
   },
   "source": [
    "# Same problem"
   ]
  },
  {
   "cell_type": "markdown",
   "id": "2a61bf8e",
   "metadata": {
    "slideshow": {
     "slide_type": "fragment"
    }
   },
   "source": [
    "## Education"
   ]
  },
  {
   "cell_type": "markdown",
   "id": "1a0a9a6a",
   "metadata": {
    "slideshow": {
     "slide_type": "subslide"
    }
   },
   "source": [
    "## Frequentism\n",
    "\n",
    "Widely taught everywhere, but typically done so poorly\n",
    "* Usually taught as a formulaic follow these steps with\n",
    "  * Little critical thinking\n",
    "  * No advice on how to deviate from steps or develop your own methods\n",
    "* Often taught using ancient methods\n",
    "  * Z Score table lookups\n",
    "* Not explained well in educational institutions\n",
    "  * Can create early biases in uninformed students\n",
    "  * *in my experience*"
   ]
  },
  {
   "cell_type": "markdown",
   "id": "4ac888c1",
   "metadata": {
    "slideshow": {
     "slide_type": "subslide"
    }
   },
   "source": [
    "## Bayesianism\n",
    "Not widely taught, when done so fairly deeply from first principles\n",
    "* Overly theoretical with lots of math formulas\n",
    "* Most places stop at point estimate methodology\n",
    "* Legacy outdated ideas persist here too\n",
    "  * e.g. conjugate models\n",
    "  * Obtuse examples like the eight schools model"
   ]
  },
  {
   "cell_type": "markdown",
   "id": "9e9c015f",
   "metadata": {
    "slideshow": {
     "slide_type": "slide"
    }
   },
   "source": [
    "# Here's some resources"
   ]
  },
  {
   "cell_type": "markdown",
   "id": "7af8ac6b",
   "metadata": {
    "slideshow": {
     "slide_type": "subslide"
    }
   },
   "source": [
    "# This book\n",
    "<div>\n",
    "  <center>\n",
    "    <img src=\"https://images-na.ssl-images-amazon.com/images/I/8123QQADYhL.jpg\" style=\"height:700px;\"/>\n",
    "  </center>\n",
    "</div>\n"
   ]
  },
  {
   "cell_type": "markdown",
   "id": "7c2ceb23",
   "metadata": {
    "slideshow": {
     "slide_type": "subslide"
    }
   },
   "source": [
    "# This talk\n",
    "<div>\n",
    "  <center>\n",
    "    <img src=\"img/VanderPlasTalk.png\" style=\"width:1000px;\"/>\n",
    "  </center>\n",
    "</div>\n"
   ]
  },
  {
   "cell_type": "markdown",
   "id": "df00d8d9",
   "metadata": {
    "slideshow": {
     "slide_type": "notes"
    }
   },
   "source": [
    "https://www.youtube.com/embed/KhAUfqhLakw"
   ]
  },
  {
   "cell_type": "markdown",
   "id": "e662ebc0",
   "metadata": {
    "slideshow": {
     "slide_type": "subslide"
    }
   },
   "source": [
    "# Use both both hands on\n",
    "* Find applied examples\n",
    "  * Really dig into each\n",
    "* Use scikit-learn or a PPL to help\n",
    "\n",
    "* Apply it to your actual problems"
   ]
  },
  {
   "cell_type": "markdown",
   "id": "a57d0c1e",
   "metadata": {
    "slideshow": {
     "slide_type": "subslide"
    }
   },
   "source": [
    "# Don't get hung up on an identity\n"
   ]
  },
  {
   "cell_type": "markdown",
   "id": "bbc73522",
   "metadata": {
    "slideshow": {
     "slide_type": "fragment"
    }
   },
   "source": [
    "##  Be a data professional\n"
   ]
  },
  {
   "cell_type": "markdown",
   "id": "472b4c51",
   "metadata": {
    "slideshow": {
     "slide_type": "fragment"
    }
   },
   "source": [
    "Not a \"Frequentist\" or a \"Bayesian\"\n",
    "\n",
    "* Know the tools that are out there\n",
    "    * The use cases for each\n",
    "* Be able to read and understand other peoples work\n",
    "* Know which technique is appropriate for what place"
   ]
  },
  {
   "cell_type": "markdown",
   "id": "19a381f9",
   "metadata": {
    "slideshow": {
     "slide_type": "subslide"
    }
   },
   "source": [
    "# You'll stand out from others\n"
   ]
  },
  {
   "cell_type": "markdown",
   "id": "d72df3e5",
   "metadata": {
    "slideshow": {
     "slide_type": "fragment"
    }
   },
   "source": [
    "* You'll give yourself significant credibility by a wide interval\n",
    "  * You'll exude confidence in your understanding above 95% percent of others\n",
    "  \n",
    "* The whole distribution of jobs, research groups, stats communities will be open to you\n",
    "  * You'll blow away folks prior beliefs about you\n",
    "  * They'll certainly have to update their expectations"
   ]
  },
  {
   "cell_type": "markdown",
   "id": "c32e0df5",
   "metadata": {
    "slideshow": {
     "slide_type": "slide"
    }
   },
   "source": [
    "# If you're part of the book club\n",
    "We're going to learn both hands on\n",
    "* Book is written in Frequentist framework so we'll definitely use that\n",
    "* Will reanalyze some examples in Bayesian framework when it makes sense"
   ]
  },
  {
   "cell_type": "markdown",
   "id": "1292ec3f",
   "metadata": {
    "slideshow": {
     "slide_type": "subslide"
    }
   },
   "source": [
    "# If you want to be part of a book club\n",
    "Or get other updates\n",
    "\n",
    "* Follow me on twitter @canyon289\n",
    "* Join my mailing list\n",
    "* Check out my blog ravinkumar.com"
   ]
  }
 ],
 "metadata": {
  "celltoolbar": "Slideshow",
  "kernelspec": {
   "display_name": "Python 3 (ipykernel)",
   "language": "python",
   "name": "python3"
  },
  "language_info": {
   "codemirror_mode": {
    "name": "ipython",
    "version": 3
   },
   "file_extension": ".py",
   "mimetype": "text/x-python",
   "name": "python",
   "nbconvert_exporter": "python",
   "pygments_lexer": "ipython3",
   "version": "3.10.4"
  },
  "rise": {
   "auto_select": "none",
   "enable_chalkboard": true,
   "scroll": true
  }
 },
 "nbformat": 4,
 "nbformat_minor": 5
}
